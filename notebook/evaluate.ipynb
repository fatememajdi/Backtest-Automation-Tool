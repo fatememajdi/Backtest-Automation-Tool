{
 "cells": [
  {
   "cell_type": "code",
   "execution_count": null,
   "id": "1270a947",
   "metadata": {},
   "outputs": [],
   "source": [
    "\n",
    "import sys\n",
    "sys.path.append('/Users/fateme/Desktop/CeeNous/Backtest Automation/src')\n",
    "from backtest_automation import BackTestAuto"
   ]
  },
  {
   "cell_type": "code",
   "execution_count": null,
   "id": "4a70046a",
   "metadata": {},
   "outputs": [],
   "source": [
    "\n",
    "BackTestAuto(\n",
    "    company_id='68e20efb10084887cf496376',\n",
    "    company_domain_before_backtest='api.seenous.net',\n",
    "    company_domain_after_backtest='api.seenous.ir',\n",
    "    output_path='/Users/fateme/Desktop/CeeNous/Backtest Automation/data/backtest.xlsx'\n",
    ")"
   ]
  }
 ],
 "metadata": {
  "kernelspec": {
   "display_name": "Python [conda env:base] *",
   "language": "python",
   "name": "conda-base-py"
  },
  "language_info": {
   "codemirror_mode": {
    "name": "ipython",
    "version": 3
   },
   "file_extension": ".py",
   "mimetype": "text/x-python",
   "name": "python",
   "nbconvert_exporter": "python",
   "pygments_lexer": "ipython3",
   "version": "3.12.2"
  }
 },
 "nbformat": 4,
 "nbformat_minor": 5
}
